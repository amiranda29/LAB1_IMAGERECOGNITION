{
 "cells": [
  {
   "attachments": {},
   "cell_type": "markdown",
   "id": "f8fc170a",
   "metadata": {},
   "source": [
    "## LABORATORIO 1\n",
    "# Maria Alejandra Morales Miranda"
   ]
  },
  {
   "attachments": {},
   "cell_type": "markdown",
   "id": "0e557ada",
   "metadata": {},
   "source": [
    "Ejercicio 1 "
   ]
  },
  {
   "cell_type": "code",
   "execution_count": 1,
   "id": "9c326793",
   "metadata": {},
   "outputs": [],
   "source": [
    "from PIL import Image\n",
    "\n",
    "def activar_canales_de_color(imagen, color):\n",
    "    # Convertir la imagen a modo RGB para trabajar con los canales de color\n",
    "    imagen_rgb = imagen.convert(\"RGB\")\n",
    "    width, height = imagen_rgb.size\n",
    "\n",
    "    # Crear una nueva imagen en blanco con el mismo tamaño que la original\n",
    "    imagen_activada = Image.new(\"RGB\", (width, height), color=0)\n",
    "\n",
    "    # Iterar sobre cada píxel de la imagen\n",
    "    for x in range(width):\n",
    "        for y in range(height):\n",
    "            # Obtener el valor RGB del píxel actual\n",
    "            r, g, b = imagen_rgb.getpixel((x, y))\n",
    "\n",
    "            # Configurar los canales de color según el parámetro \"color\"\n",
    "            if color == 1:  # Azul\n",
    "                imagen_activada.putpixel((x, y), (0, 0, b))\n",
    "            elif color == 2:  # Verde\n",
    "                imagen_activada.putpixel((x, y), (0, g, 0))\n",
    "            elif color == 3:  # Rojo\n",
    "                imagen_activada.putpixel((x, y), (r, 0, 0))\n",
    "            elif color == 10:  # Rojo y Verde\n",
    "                imagen_activada.putpixel((x, y), (r, g, 0))\n",
    "            elif color == 20:  # Verde y Azul\n",
    "                imagen_activada.putpixel((x, y), (0, g, b))\n",
    "            elif color == 30:  # Azul y Rojo\n",
    "                imagen_activada.putpixel((x, y), (r, 0, b))\n",
    "            else:\n",
    "                # Si el valor de \"color\" no es válido, devolver la imagen original\n",
    "                return imagen\n",
    "\n",
    "    return imagen_activada\n"
   ]
  },
  {
   "attachments": {},
   "cell_type": "markdown",
   "id": "16ffc7d9",
   "metadata": {},
   "source": [
    "IMPLEMENTACION EJERCICIO 1"
   ]
  },
  {
   "cell_type": "code",
   "execution_count": 9,
   "id": "8f3d4133",
   "metadata": {},
   "outputs": [],
   "source": [
    "# Cargar la imagen\n",
    "ruta_imagen = \"tedlasso.jpeg\"  # Reemplaza con la ruta de tu imagen\n",
    "imagen = Image.open(ruta_imagen)\n",
    "\n",
    "# Llamar a la función con el valor de \"color\" deseado (por ejemplo, 1 para azul)\n",
    "color_deseado = 30\n",
    "imagen_activada = activar_canales_de_color(imagen, color_deseado)\n",
    "\n",
    "# Guardar la nueva imagen resultante\n",
    "imagen_activada.save(\"imagen_ejercicio1.jpg\")  # Reemplaza con la ruta donde quieras guardar la imagen\n"
   ]
  },
  {
   "attachments": {},
   "cell_type": "markdown",
   "id": "0b634e77",
   "metadata": {},
   "source": [
    "![Ejemplo de imagen](imagen_ejercicio1.jpg)"
   ]
  },
  {
   "attachments": {},
   "cell_type": "markdown",
   "id": "7e09067b",
   "metadata": {},
   "source": [
    "Ejercicio 2"
   ]
  },
  {
   "cell_type": "code",
   "execution_count": 10,
   "id": "42fa7465",
   "metadata": {},
   "outputs": [],
   "source": [
    "def construir_imagen_color(imagen_rojo, imagen_verde, imagen_azul):\n",
    "    # Asegurarnos de que las tres imágenes tengan las mismas dimensiones\n",
    "    if imagen_rojo.size != imagen_verde.size or imagen_rojo.size != imagen_azul.size:\n",
    "        raise ValueError(\"Las imágenes no tienen las mismas dimensiones.\")\n",
    "\n",
    "    # Crear una nueva imagen en blanco en modo RGB con las mismas dimensiones\n",
    "    width, height = imagen_rojo.size\n",
    "    imagen_color = Image.new(\"RGB\", (width, height), color=0)\n",
    "\n",
    "    # Iterar sobre cada píxel de las imágenes\n",
    "    for x in range(width):\n",
    "        for y in range(height):\n",
    "            # Obtener el valor de intensidad de cada canal de color en el píxel actual\n",
    "            r = imagen_rojo.getpixel((x, y))\n",
    "            g = imagen_verde.getpixel((x, y))\n",
    "            b = imagen_azul.getpixel((x, y))\n",
    "\n",
    "            # Crear el píxel con los valores de intensidad como componentes de color\n",
    "            color_rgb = (r, g, b)\n",
    "\n",
    "            # Establecer el píxel en la nueva imagen a color\n",
    "            imagen_color.putpixel((x, y), color_rgb)\n",
    "\n",
    "    return imagen_color\n"
   ]
  },
  {
   "attachments": {},
   "cell_type": "markdown",
   "id": "5f66da7d",
   "metadata": {},
   "source": [
    "IMPLEMENTACION EJERCICIO 2"
   ]
  },
  {
   "cell_type": "code",
   "execution_count": 27,
   "id": "507824bc",
   "metadata": {},
   "outputs": [],
   "source": [
    "# Cargar las tres imágenes en escala de grises\n",
    "ruta_imagen_rojo = \"imagen1_salida_gray_rojo.jpg\"  # Reemplaza con la ruta de la imagen en escala de grises del canal rojo\n",
    "ruta_imagen_verde = \"imagen1_salida_gray_verde.jpg\"  # Reemplaza con la ruta de la imagen en escala de grises del canal verde\n",
    "ruta_imagen_azul = \"imagen1_salida_gray_azul.jpg\"  # Reemplaza con la ruta de la imagen en escala de grises del canal azul\n",
    "\n",
    "imagen_rojo = Image.open(ruta_imagen_rojo)\n",
    "imagen_verde = Image.open(ruta_imagen_verde)\n",
    "imagen_azul = Image.open(ruta_imagen_azul)\n",
    "\n",
    "# Llamar a la función para obtener la imagen a color resultante\n",
    "imagen_a_color = construir_imagen_color(imagen_rojo, imagen_verde, imagen_azul)\n",
    "\n",
    "# Guardar la imagen a color resultante\n",
    "imagen_a_color.save(\"imagen_resultado1.jpg\")  # Reemplaza con la ruta donde quieras guardar la imagen a color\n"
   ]
  },
  {
   "attachments": {},
   "cell_type": "markdown",
   "id": "5862f60c",
   "metadata": {},
   "source": [
    "![Ejemplo de imagen](imagen1/imagen_resultado1.jpg)\n"
   ]
  },
  {
   "attachments": {},
   "cell_type": "markdown",
   "id": "2be47be5",
   "metadata": {},
   "source": [
    "Ejercicio 3"
   ]
  },
  {
   "cell_type": "code",
   "execution_count": 28,
   "id": "c127a573",
   "metadata": {},
   "outputs": [],
   "source": [
    "\n",
    "def crear_escala_grises_en_tres_dimensiones(imagen):\n",
    "    # Convertir la imagen a modo RGB para trabajar con los canales de color\n",
    "    imagen_rgb = imagen.convert(\"RGB\")\n",
    "    width, height = imagen_rgb.size\n",
    "\n",
    "    # Crear tres imágenes en escala de grises para cada canal de color (rojo, verde y azul)\n",
    "    imagen_rojo = Image.new(\"L\", (width, height), color=0)\n",
    "    imagen_verde = Image.new(\"L\", (width, height), color=0)\n",
    "    imagen_azul = Image.new(\"L\", (width, height), color=0)\n",
    "\n",
    "    # Iterar sobre cada píxel de la imagen original\n",
    "    for x in range(width):\n",
    "        for y in range(height):\n",
    "            # Obtener el valor de intensidad del píxel actual\n",
    "            r, g, b = imagen_rgb.getpixel((x, y))\n",
    "\n",
    "            # Calcular el valor promedio de intensidad para los tres canales\n",
    "            intensidad_promedio = int((r + g + b) / 3)\n",
    "\n",
    "            # Establecer el valor de intensidad en cada canal de color para el píxel correspondiente\n",
    "            imagen_rojo.putpixel((x, y), intensidad_promedio)\n",
    "            imagen_verde.putpixel((x, y), intensidad_promedio)\n",
    "            imagen_azul.putpixel((x, y), intensidad_promedio)\n",
    "\n",
    "    return imagen_rojo, imagen_verde, imagen_azul\n"
   ]
  },
  {
   "attachments": {},
   "cell_type": "markdown",
   "id": "396b0c9e",
   "metadata": {},
   "source": [
    "Imagen Original \n",
    "\n",
    "![Imagen Original](tedlasso.jpeg)\n"
   ]
  },
  {
   "cell_type": "code",
   "execution_count": 29,
   "id": "91055b23",
   "metadata": {},
   "outputs": [],
   "source": [
    "# Cargar la imagen original\n",
    "ruta_imagen_original = \"tedlasso.jpeg\"  # Reemplaza con la ruta de tu imagen original\n",
    "imagen_original = Image.open(ruta_imagen_original)\n",
    "\n",
    "# Crear la escala de grises en tres dimensiones\n",
    "imagen_rojo, imagen_verde, imagen_azul = crear_escala_grises_en_tres_dimensiones(imagen_original)\n",
    "\n",
    "# Guardar las tres imágenes en escala de grises resultantes\n",
    "imagen_rojo.save(\"tedlasso_ROJO.jpeg\")  # Reemplaza con la ruta donde quieras guardar la imagen rojo\n",
    "imagen_verde.save(\"tedlasso_VERDE.jpeg\")  # Reemplaza con la ruta donde quieras guardar la imagen verde\n",
    "imagen_azul.save(\"tedlasso_AZUL.jpeg\")  # Reemplaza con la ruta donde quieras guardar la imagen azul\n"
   ]
  },
  {
   "attachments": {},
   "cell_type": "markdown",
   "id": "79a69216",
   "metadata": {},
   "source": [
    "Resultado\n",
    "\n",
    "![Resultado](tedlasso_VERDE.jpeg)"
   ]
  },
  {
   "attachments": {},
   "cell_type": "markdown",
   "id": "90466b85",
   "metadata": {},
   "source": [
    "Ejercicio 4"
   ]
  },
  {
   "cell_type": "code",
   "execution_count": 30,
   "id": "319897c3",
   "metadata": {},
   "outputs": [],
   "source": [
    "import matplotlib.pyplot as plt\n",
    "\n",
    "def mostrar_histogramas(imagen):\n",
    "    # Convertir la imagen a escala de grises utilizando el promedio aritmético\n",
    "    imagen_gris = imagen.convert(\"L\")\n",
    "\n",
    "    # Obtener los datos de píxeles de cada canal de color\n",
    "    datos_rojo, datos_verde, datos_azul = imagen.split()\n",
    "\n",
    "    # Calcular el promedio de cada canal de color\n",
    "    promedio_rojo = sum(datos_rojo.histogram()) // len(datos_rojo.histogram())\n",
    "    promedio_verde = sum(datos_verde.histogram()) // len(datos_verde.histogram())\n",
    "    promedio_azul = sum(datos_azul.histogram()) // len(datos_azul.histogram())\n",
    "    promedio_gris = sum(imagen_gris.histogram()) // len(imagen_gris.histogram())\n",
    "\n",
    "    # Crear figuras para mostrar los histogramas\n",
    "    fig, axs = plt.subplots(2, 2, figsize=(10, 8))\n",
    "\n",
    "    # Histograma del canal rojo\n",
    "    axs[0, 0].hist(datos_rojo.histogram(), bins=256, color='red', alpha=0.7)\n",
    "    axs[0, 0].axvline(promedio_rojo, color='black', linestyle='dashed', linewidth=1)\n",
    "    axs[0, 0].set_title('Histograma Rojo')\n",
    "\n",
    "    # Histograma del canal verde\n",
    "    axs[0, 1].hist(datos_verde.histogram(), bins=256, color='green', alpha=0.7)\n",
    "    axs[0, 1].axvline(promedio_verde, color='black', linestyle='dashed', linewidth=1)\n",
    "    axs[0, 1].set_title('Histograma Verde')\n",
    "\n",
    "    # Histograma del canal azul\n",
    "    axs[1, 0].hist(datos_azul.histogram(), bins=256, color='blue', alpha=0.7)\n",
    "    axs[1, 0].axvline(promedio_azul, color='black', linestyle='dashed', linewidth=1)\n",
    "    axs[1, 0].set_title('Histograma Azul')\n",
    "\n",
    "    # Histograma de escala de grises\n",
    "    axs[1, 1].hist(imagen_gris.histogram(), bins=256, color='gray', alpha=0.7)\n",
    "    axs[1, 1].axvline(promedio_gris, color='black', linestyle='dashed', linewidth=1)\n",
    "    axs[1, 1].set_title('Histograma Escala de Grises')\n",
    "\n",
    "    # Ajustar la disposición de los gráficos\n",
    "    plt.tight_layout()\n",
    "\n",
    "    # Mostrar los histogramas\n",
    "    plt.show()\n"
   ]
  },
  {
   "attachments": {},
   "cell_type": "markdown",
   "id": "da8ba20c",
   "metadata": {},
   "source": [
    "IMPLEMENTACION EJERCICIO 4"
   ]
  },
  {
   "cell_type": "code",
   "execution_count": 31,
   "id": "f94e8444",
   "metadata": {},
   "outputs": [
    {
     "data": {
      "image/png": "[encoded data removed]",
      "text/plain": [
       "<Figure size 1000x800 with 4 Axes>"
      ]
     },
     "metadata": {},
     "output_type": "display_data"
    }
   ],
   "source": [
    "# Cargar la imagen\n",
    "ruta_imagen = \"tedlasso.jpeg\"  # Reemplaza con la ruta de tu imagen\n",
    "imagen = Image.open(ruta_imagen)\n",
    "\n",
    "# Mostrar los histogramas de la imagen\n",
    "mostrar_histogramas(imagen)\n"
   ]
  },
  {
   "attachments": {},
   "cell_type": "markdown",
   "id": "f7c2d81d",
   "metadata": {},
   "source": [
    "Ejercicio 5"
   ]
  },
  {
   "cell_type": "code",
   "execution_count": 32,
   "id": "e3dfa984",
   "metadata": {},
   "outputs": [],
   "source": [
    "def convertir_a_hsv(imagen):\n",
    "    # Convertir la imagen a modo HSV\n",
    "    imagen_hsv = imagen.convert(\"HSV\")\n",
    "    return imagen_hsv\n",
    "\n",
    "def mostrar_histograma_histograma_pdf(imagen, nombre_archivo_pdf):\n",
    "    # Convertir la imagen a HSV\n",
    "    imagen_hsv = convertir_a_hsv(imagen)\n",
    "\n",
    "    # Obtener los datos de píxeles de cada canal de color\n",
    "    datos_hue, datos_saturation, datos_value = imagen_hsv.split()\n",
    "\n",
    "    # Calcular el promedio de cada canal de color\n",
    "    promedio_hue = sum(datos_hue.histogram()) // len(datos_hue.histogram())\n",
    "    promedio_saturation = sum(datos_saturation.histogram()) // len(datos_saturation.histogram())\n",
    "    promedio_value = sum(datos_value.histogram()) // len(datos_value.histogram())\n",
    "\n",
    "    # Crear figura para mostrar los histogramas\n",
    "    fig, axs = plt.subplots(3, 1, figsize=(8, 10))\n",
    "\n",
    "    # Histograma del canal Hue (Matiz)\n",
    "    axs[0].hist(datos_hue.histogram(), bins=256, color='orange', alpha=0.7)\n",
    "    axs[0].axvline(promedio_hue, color='black', linestyle='dashed', linewidth=1)\n",
    "    axs[0].set_title('Histograma Hue (Matiz)')\n",
    "\n",
    "    # Histograma del canal Saturation (Saturación)\n",
    "    axs[1].hist(datos_saturation.histogram(), bins=256, color='green', alpha=0.7)\n",
    "    axs[1].axvline(promedio_saturation, color='black', linestyle='dashed', linewidth=1)\n",
    "    axs[1].set_title('Histograma Saturation (Saturación)')\n",
    "\n",
    "    # Histograma del canal Value (Valor)\n",
    "    axs[2].hist(datos_value.histogram(), bins=256, color='blue', alpha=0.7)\n",
    "    axs[2].axvline(promedio_value, color='black', linestyle='dashed', linewidth=1)\n",
    "    axs[2].set_title('Histograma Value (Valor)')\n",
    "\n",
    "    # Ajustar la disposición de los gráficos\n",
    "    plt.tight_layout()\n",
    "\n",
    "    # Guardar los histogramas en un PDF\n",
    "    plt.savefig(nombre_archivo_pdf)\n",
    "    plt.close()\n"
   ]
  },
  {
   "attachments": {},
   "cell_type": "markdown",
   "id": "d69c7baa",
   "metadata": {},
   "source": [
    "IMPLEMENTACION EJERCICIO 5"
   ]
  },
  {
   "cell_type": "code",
   "execution_count": 33,
   "id": "330c73da",
   "metadata": {},
   "outputs": [],
   "source": [
    "\n",
    "    # Cargar la imagen\n",
    "ruta_imagen = \"tedlasso.jpeg\"  # Reemplaza con la ruta de tu imagen\n",
    "imagen = Image.open(ruta_imagen)\n",
    "\n",
    "    # Generar el PDF con los histogramas\n",
    "nombre_archivo_pdf = \"histogramas.pdf\"\n",
    "mostrar_histograma_histograma_pdf(imagen, nombre_archivo_pdf)\n",
    "\n",
    "print(f\"Se ha generado el archivo PDF con los histogramas: {nombre_archivo_pdf}\")\n"
   ]
  }
 ],
 "metadata": {
  "kernelspec": {
   "display_name": "Python 3 (ipykernel)",
   "language": "python",
   "name": "python3"
  },
  "language_info": {
   "codemirror_mode": {
    "name": "ipython",
    "version": 3
   },
   "file_extension": ".py",
   "mimetype": "text/x-python",
   "name": "python",
   "nbconvert_exporter": "python",
   "pygments_lexer": "ipython3",
   "version": "3.11.4"
  }
 },
 "nbformat": 4,
 "nbformat_minor": 5
}
